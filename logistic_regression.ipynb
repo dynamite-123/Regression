{
 "cells": [
  {
   "cell_type": "markdown",
   "id": "acb5bf7c-6a03-4e9e-953f-d22b8cec969f",
   "metadata": {},
   "source": [
    "# Logistic Regression\n",
    "\n",
    "**Logistic Regression** is a statistical and machine learning technique used for **binary classification problems**. It predicts the probability that an input belongs to a particular class (e.g., 0 or 1).\n",
    "\n",
    "---\n",
    "\n",
    "## 🔸 Key Idea\n",
    "\n",
    "- Unlike linear regression, logistic regression outputs a **probability** (value between 0 and 1).\n",
    "- It uses the **sigmoid (logistic)** function to \"squash\" predictions.\n",
    "\n",
    "---\n",
    "\n",
    "## 🔹 Sigmoid Function\n",
    "\n",
    "The sigmoid function is defined as:\n",
    "\n",
    "$$\\sigma(z) = \\frac{1}{1 + e^{-z}}$$\n",
    "\n",
    "Where:\n",
    "\n",
    "- $z = w_0 + w_1x_1 + w_2x_2 + \\dots + w_nx_n$\n",
    "- $\\sigma(z)$ is the predicted probability that the input belongs to class 1.\n",
    "\n",
    "---\n",
    "\n",
    "## 🔹 Hypothesis Function\n",
    "\n",
    "$$\\hat{y} = \\sigma(w^T x + b)$$\n",
    "\n",
    "Where:\n",
    "- $\\hat{y}$: Predicted probability\n",
    "- $x$: Input features\n",
    "- $w$: Weights\n",
    "- $b$: Bias\n",
    "\n",
    "---\n",
    "\n",
    "## 🔹 Cost Function (Binary Cross-Entropy)\n",
    "\n",
    "The cost function used to train logistic regression is:\n",
    "\n",
    "$$\n",
    "J(w) = -\\frac{1}{m} \\sum_{i=1}^{m} \\left[ y^{(i)} \\log(\\hat{y}^{(i)}) + (1 - y^{(i)}) \\log(1 - \\hat{y}^{(i)}) \\right]\n",
    "$$\n",
    "\n",
    "Where:\n",
    "- $m$: Number of training examples\n",
    "- $y^{(i)}$: True label (0 or 1)\n",
    "- $\\hat{y}^{(i)}$: Predicted probability\n",
    "\n",
    "---\n",
    "\n",
    "## 🔹 Gradient Descent\n",
    "\n",
    "Used to minimize the cost function and update weights:\n",
    "\n",
    "$$w := w - \\alpha \\cdot \\frac{\\partial J}{\\partial w}$$\n",
    "\n",
    "Where $\\alpha$ is the learning rate.\n",
    "\n",
    "---\n",
    "\n",
    "## 🔸 When to Use Logistic Regression\n",
    "\n",
    "- Binary classification tasks (e.g., spam detection, disease prediction)\n",
    "- When interpretability is important\n",
    "- Works well when the relationship between features and target is **linear** in log-odds\n",
    "\n",
    "---\n"
   ]
  },
  {
   "cell_type": "code",
   "execution_count": 16,
   "id": "2a7eae2c-4230-43d6-adf0-62e8cd818e1e",
   "metadata": {},
   "outputs": [],
   "source": [
    "import numpy as np"
   ]
  },
  {
   "cell_type": "code",
   "execution_count": 2,
   "id": "7e43325c-4bd6-41ab-8700-9f330c1de157",
   "metadata": {},
   "outputs": [],
   "source": [
    "def sigmoid(z):\n",
    "    return 1.0 / (1.0 + np.exp(-z))"
   ]
  },
  {
   "cell_type": "code",
   "execution_count": 31,
   "id": "675ffd7a-f599-445d-b185-399a696ca362",
   "metadata": {},
   "outputs": [],
   "source": [
    " def calculate_gradient(theta, X, y):\n",
    "     m = y.size\n",
    "     return (X.T @ (sigmoid(X @ theta) - y) / m)"
   ]
  },
  {
   "cell_type": "code",
   "execution_count": 33,
   "id": "4e1b548a-a2aa-4d4f-8b8f-d93ef62681ed",
   "metadata": {},
   "outputs": [],
   "source": [
    "def gradient_descent(X, y, alpha=0.1, num_iter=100, tol=1e-7):\n",
    "    X_b = np.c_[np.ones((X.shape[0], 1)), X]\n",
    "\n",
    "    theta = np.zeros(X_b.shape[1])\n",
    "\n",
    "    for i in range(num_iter):\n",
    "        grad = calculate_gradient(theta, X_b, y)\n",
    "        theta = theta - grad\n",
    "\n",
    "        if np.linalg.norm(grad) < tol:\n",
    "            break\n",
    "    return theta"
   ]
  },
  {
   "cell_type": "code",
   "execution_count": 23,
   "id": "271e4cb5-7899-4415-939c-6287e4b735f9",
   "metadata": {},
   "outputs": [],
   "source": [
    "def predict_proba(X, theta):\n",
    "    X_b = np.c_[np.ones((X.shape[0], 1)), X]\n",
    "    return sigmoid(X_b @ theta)"
   ]
  },
  {
   "cell_type": "code",
   "execution_count": 24,
   "id": "f29f05d7-3375-422f-8c5a-84d89de3787a",
   "metadata": {},
   "outputs": [],
   "source": [
    "def predict(X, theta, threshold=0.5):\n",
    "    return (predict_proba(X, theta) >= threshold).astype(int)"
   ]
  },
  {
   "cell_type": "code",
   "execution_count": 25,
   "id": "52491fe5-72a8-4c37-a098-df515bf87a16",
   "metadata": {},
   "outputs": [],
   "source": [
    "from sklearn.datasets import load_breast_cancer\n",
    "from sklearn.preprocessing import StandardScaler\n",
    "from sklearn.model_selection import train_test_split\n",
    "from sklearn.metrics import accuracy_score"
   ]
  },
  {
   "cell_type": "code",
   "execution_count": 35,
   "id": "47a4fcce-f366-46aa-bb52-7187adbdbbaa",
   "metadata": {},
   "outputs": [],
   "source": [
    "X, y = load_breast_cancer(return_X_y=True)\n",
    "X_train, X_test, y_train, y_test = train_test_split(X, y, test_size=0.2)\n",
    "\n",
    "scaler = StandardScaler()\n",
    "X_train_scaled = scaler.fit_transform(X_train)\n",
    "X_test_scaled = scaler.transform(X_test)\n",
    "\n",
    "theta_hat = gradient_descent(X_train_scaled, y_train, alpha=0.1)\n",
    "\n",
    "y_pred_train = predict(X_train_scaled, theta_hat)\n",
    "y_pred_test = predict(X_test_scaled, theta_hat)\n",
    "\n",
    "train_acc = accuracy_score(y_train, y_pred_train)\n",
    "test_acc = accuracy_score(y_test, y_pred_test) \n"
   ]
  },
  {
   "cell_type": "code",
   "execution_count": 37,
   "id": "2b7ad5e3-cd87-4ad7-bc84-89fc9d502a56",
   "metadata": {},
   "outputs": [
    {
     "name": "stdout",
     "output_type": "stream",
     "text": [
      "0.9868131868131869\n",
      "0.9736842105263158\n"
     ]
    }
   ],
   "source": [
    "print(train_acc)\n",
    "print(test_acc)"
   ]
  },
  {
   "cell_type": "code",
   "execution_count": null,
   "id": "772b6981-e478-4a4a-bd5b-e0cb43f16c74",
   "metadata": {},
   "outputs": [],
   "source": []
  }
 ],
 "metadata": {
  "kernelspec": {
   "display_name": "Python 3 (ipykernel)",
   "language": "python",
   "name": "python3"
  },
  "language_info": {
   "codemirror_mode": {
    "name": "ipython",
    "version": 3
   },
   "file_extension": ".py",
   "mimetype": "text/x-python",
   "name": "python",
   "nbconvert_exporter": "python",
   "pygments_lexer": "ipython3",
   "version": "3.12.9"
  }
 },
 "nbformat": 4,
 "nbformat_minor": 5
}
